{
 "cells": [
  {
   "cell_type": "code",
   "execution_count": 1,
   "metadata": {
    "collapsed": false
   },
   "outputs": [],
   "source": [
    "%matplotlib inline  \n",
    "import pandas as pd"
   ]
  },
  {
   "cell_type": "code",
   "execution_count": 2,
   "metadata": {
    "collapsed": true
   },
   "outputs": [],
   "source": [
    "# get the data from csv file.\n",
    "df = pd.read_csv('train.csv', index_col=0)\n",
    "X_test = pd.read_csv('test.csv', index_col=0)"
   ]
  },
  {
   "cell_type": "code",
   "execution_count": 3,
   "metadata": {
    "collapsed": true
   },
   "outputs": [],
   "source": [
    "# dicard unnecessary data\n",
    "df = df[['Survived', 'Pclass', 'Sex', 'Age', 'SibSp', 'Parch']]\n",
    "X_test = X_test[['Pclass', 'Sex', 'Age', 'SibSp', 'Parch']]"
   ]
  },
  {
   "cell_type": "code",
   "execution_count": 4,
   "metadata": {
    "collapsed": true
   },
   "outputs": [],
   "source": [
    "# divide age into two categories, child and adult\n",
    "df['Age'] = pd.cut(df['Age'], [0, 8, df['Age'].max()], labels=['child', 'adult'])\n",
    "X_test['Age'] = pd.cut(X_test['Age'], [0, 8, X_test['Age'].max()], labels=['child', 'adult'])\n",
    "\n",
    "X_test['Family'] = X_test['SibSp'] + X_test['Parch']\n",
    "X_test = X_test.drop(['SibSp', 'Parch'], 1)"
   ]
  },
  {
   "cell_type": "code",
   "execution_count": 5,
   "metadata": {
    "collapsed": false
   },
   "outputs": [],
   "source": [
    "# create a new feature 'family'\n",
    "df['Family'] = df['SibSp'] + df['Parch']\n",
    "df = df.drop(['SibSp', 'Parch'], 1)"
   ]
  },
  {
   "cell_type": "code",
   "execution_count": 6,
   "metadata": {
    "collapsed": false
   },
   "outputs": [],
   "source": [
    "# change categories to numbers\n",
    "df['Sex'] = df['Sex'].apply(lambda x: 1 if x == \"male\" else 0)\n",
    "df['Family'] = df['Family'].apply(lambda x: 4 if x > 4 else x)\n",
    "df['Age'] = df['Age'].apply(lambda x: 1 if x == \"adult\" else 0)\n",
    "\n",
    "X_test['Sex'] = X_test['Sex'].apply(lambda x: 1 if x == \"male\" else 0)\n",
    "X_test['Family'] = X_test['Family'].apply(lambda x: 4 if x > 4 else x)\n",
    "X_test['Age'] = X_test['Age'].apply(lambda x: 1 if x == \"adult\" else 0)"
   ]
  },
  {
   "cell_type": "code",
   "execution_count": 7,
   "metadata": {
    "collapsed": true
   },
   "outputs": [],
   "source": [
    "# obtain X_train and y_train from the dataframe.\n",
    "X_train = df.drop('Survived', axis = 1) \n",
    "y_train = df['Survived']"
   ]
  },
  {
   "cell_type": "code",
   "execution_count": 8,
   "metadata": {
    "collapsed": true
   },
   "outputs": [],
   "source": [
    "# fill incomplete data in X_train\n",
    "from sklearn.preprocessing import Imputer\n",
    "imputer = Imputer(strategy='median', axis=1)\n",
    "imputer = imputer.fit(X_train)\n",
    "X_train = imputer.transform(X_train)\n",
    "\n",
    "# fill incomplete data in X_test\n",
    "\n",
    "imputer = Imputer(strategy='median', axis=1)\n",
    "imputer = imputer.fit(X_test)\n",
    "X_test = imputer.transform(X_test)"
   ]
  },
  {
   "cell_type": "code",
   "execution_count": 9,
   "metadata": {
    "collapsed": true
   },
   "outputs": [],
   "source": [
    "from sklearn.preprocessing import PolynomialFeatures\n",
    "poly = PolynomialFeatures(2)\n",
    "X_train = poly.fit_transform(X_train)  \n",
    "X_test = poly.fit_transform(X_test)  "
   ]
  },
  {
   "cell_type": "code",
   "execution_count": 10,
   "metadata": {
    "collapsed": true
   },
   "outputs": [],
   "source": [
    "# fit the model\n",
    "from sklearn.linear_model import LogisticRegression\n",
    "clf = LogisticRegression()\n",
    "clf = clf.fit(X_train, y_train)"
   ]
  },
  {
   "cell_type": "code",
   "execution_count": 14,
   "metadata": {
    "collapsed": false
   },
   "outputs": [
    {
     "name": "stdout",
     "output_type": "stream",
     "text": [
      "Training Accuracy: 0.824915824916\n"
     ]
    }
   ],
   "source": [
    "print(\"Training Accuracy:\", clf.score(X_train, y_train))"
   ]
  },
  {
   "cell_type": "code",
   "execution_count": 12,
   "metadata": {
    "collapsed": false
   },
   "outputs": [],
   "source": [
    "# get the result\n",
    "import numpy as np\n",
    "result = pd.DataFrame(data=clf.predict(X_test), index = np.arange(892, 1310), columns=['Survived'])"
   ]
  },
  {
   "cell_type": "code",
   "execution_count": 13,
   "metadata": {
    "collapsed": true
   },
   "outputs": [],
   "source": [
    "# save the result to csv file\n",
    "result.index.name = 'PassengerId'\n",
    "result.to_csv('result.csv')"
   ]
  }
 ],
 "metadata": {
  "kernelspec": {
   "display_name": "Python 3",
   "language": "python",
   "name": "python3"
  },
  "language_info": {
   "codemirror_mode": {
    "name": "ipython",
    "version": 3
   },
   "file_extension": ".py",
   "mimetype": "text/x-python",
   "name": "python",
   "nbconvert_exporter": "python",
   "pygments_lexer": "ipython3",
   "version": "3.6.0"
  }
 },
 "nbformat": 4,
 "nbformat_minor": 2
}
